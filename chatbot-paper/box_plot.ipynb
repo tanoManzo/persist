{
 "metadata": {
  "language_info": {
   "codemirror_mode": {
    "name": "ipython",
    "version": 3
   },
   "file_extension": ".py",
   "mimetype": "text/x-python",
   "name": "python",
   "nbconvert_exporter": "python",
   "pygments_lexer": "ipython3",
   "version": "3.7.6-final"
  },
  "orig_nbformat": 2,
  "kernelspec": {
   "name": "python3",
   "display_name": "Python 3",
   "language": "python"
  }
 },
 "nbformat": 4,
 "nbformat_minor": 2,
 "cells": [
  {
   "cell_type": "code",
   "execution_count": 36,
   "metadata": {},
   "outputs": [
    {
     "output_type": "execute_result",
     "data": {
      "text/plain": [
       "                  Date Response Time\n",
       "0  06/08/2020 07:39:02       0:00:06\n",
       "1  06/08/2020 07:39:04       0:00:01\n",
       "2  06/08/2020 07:39:08       0:00:02\n",
       "3  06/08/2020 07:39:11       0:00:01\n",
       "4  06/08/2020 07:39:19       0:00:01\n",
       "5  06/08/2020 07:39:21       0:00:02\n",
       "6  06/08/2020 07:39:29       0:00:01\n",
       "7  06/08/2020 07:39:58       0:00:26"
      ],
      "text/html": "<div>\n<style scoped>\n    .dataframe tbody tr th:only-of-type {\n        vertical-align: middle;\n    }\n\n    .dataframe tbody tr th {\n        vertical-align: top;\n    }\n\n    .dataframe thead th {\n        text-align: right;\n    }\n</style>\n<table border=\"1\" class=\"dataframe\">\n  <thead>\n    <tr style=\"text-align: right;\">\n      <th></th>\n      <th>Date</th>\n      <th>Response Time</th>\n    </tr>\n  </thead>\n  <tbody>\n    <tr>\n      <th>0</th>\n      <td>06/08/2020 07:39:02</td>\n      <td>0:00:06</td>\n    </tr>\n    <tr>\n      <th>1</th>\n      <td>06/08/2020 07:39:04</td>\n      <td>0:00:01</td>\n    </tr>\n    <tr>\n      <th>2</th>\n      <td>06/08/2020 07:39:08</td>\n      <td>0:00:02</td>\n    </tr>\n    <tr>\n      <th>3</th>\n      <td>06/08/2020 07:39:11</td>\n      <td>0:00:01</td>\n    </tr>\n    <tr>\n      <th>4</th>\n      <td>06/08/2020 07:39:19</td>\n      <td>0:00:01</td>\n    </tr>\n    <tr>\n      <th>5</th>\n      <td>06/08/2020 07:39:21</td>\n      <td>0:00:02</td>\n    </tr>\n    <tr>\n      <th>6</th>\n      <td>06/08/2020 07:39:29</td>\n      <td>0:00:01</td>\n    </tr>\n    <tr>\n      <th>7</th>\n      <td>06/08/2020 07:39:58</td>\n      <td>0:00:26</td>\n    </tr>\n  </tbody>\n</table>\n</div>"
     },
     "metadata": {},
     "execution_count": 36
    }
   ],
   "source": [
    "import pandas as pd \n",
    "\n",
    "df = pd.read_csv(\"response_time_.csv\")\n",
    "df.head(8)"
   ]
  },
  {
   "cell_type": "code",
   "execution_count": 40,
   "metadata": {},
   "outputs": [],
   "source": [
    "df['Date']=pd.to_datetime(df['Date'],format=\"%d/%m/%Y %H:%M:%S\")\n",
    "df['Response Time']=pd.to_datetime(df['Response Time'],format=\"%H:%M:%S\")\n",
    "df_trans=df.copy()\n",
    "df_trans['Date']=df_trans['Date'].dt.date\n",
    "df_trans['Response Time']=df_trans['Response Time'].dt.time"
   ]
  },
  {
   "cell_type": "code",
   "execution_count": 41,
   "metadata": {},
   "outputs": [
    {
     "output_type": "execute_result",
     "data": {
      "text/plain": [
       "           Response Time                      \n",
       "                   count unique       top freq\n",
       "Date                                          \n",
       "2020-08-06           124     15  00:00:02   32\n",
       "2020-08-07            29      8  00:00:02    9\n",
       "2020-08-08           126     10  00:00:01   34\n",
       "2020-08-09           241     13  00:00:02   58\n",
       "2020-08-10            32      8  00:00:02    9\n",
       "2020-08-11           108     11  00:00:02   28\n",
       "2020-08-12           119     10  00:00:01   31\n",
       "2020-08-13            48      7  00:00:02   15\n",
       "2020-08-14            40      8  00:00:02    9\n",
       "2020-08-15            36      6  00:00:03    9\n",
       "2020-08-16            39      7  00:00:03   12\n",
       "2020-08-17            94     10  00:00:01   28"
      ],
      "text/html": "<div>\n<style scoped>\n    .dataframe tbody tr th:only-of-type {\n        vertical-align: middle;\n    }\n\n    .dataframe tbody tr th {\n        vertical-align: top;\n    }\n\n    .dataframe thead tr th {\n        text-align: left;\n    }\n\n    .dataframe thead tr:last-of-type th {\n        text-align: right;\n    }\n</style>\n<table border=\"1\" class=\"dataframe\">\n  <thead>\n    <tr>\n      <th></th>\n      <th colspan=\"4\" halign=\"left\">Response Time</th>\n    </tr>\n    <tr>\n      <th></th>\n      <th>count</th>\n      <th>unique</th>\n      <th>top</th>\n      <th>freq</th>\n    </tr>\n    <tr>\n      <th>Date</th>\n      <th></th>\n      <th></th>\n      <th></th>\n      <th></th>\n    </tr>\n  </thead>\n  <tbody>\n    <tr>\n      <th>2020-08-06</th>\n      <td>124</td>\n      <td>15</td>\n      <td>00:00:02</td>\n      <td>32</td>\n    </tr>\n    <tr>\n      <th>2020-08-07</th>\n      <td>29</td>\n      <td>8</td>\n      <td>00:00:02</td>\n      <td>9</td>\n    </tr>\n    <tr>\n      <th>2020-08-08</th>\n      <td>126</td>\n      <td>10</td>\n      <td>00:00:01</td>\n      <td>34</td>\n    </tr>\n    <tr>\n      <th>2020-08-09</th>\n      <td>241</td>\n      <td>13</td>\n      <td>00:00:02</td>\n      <td>58</td>\n    </tr>\n    <tr>\n      <th>2020-08-10</th>\n      <td>32</td>\n      <td>8</td>\n      <td>00:00:02</td>\n      <td>9</td>\n    </tr>\n    <tr>\n      <th>2020-08-11</th>\n      <td>108</td>\n      <td>11</td>\n      <td>00:00:02</td>\n      <td>28</td>\n    </tr>\n    <tr>\n      <th>2020-08-12</th>\n      <td>119</td>\n      <td>10</td>\n      <td>00:00:01</td>\n      <td>31</td>\n    </tr>\n    <tr>\n      <th>2020-08-13</th>\n      <td>48</td>\n      <td>7</td>\n      <td>00:00:02</td>\n      <td>15</td>\n    </tr>\n    <tr>\n      <th>2020-08-14</th>\n      <td>40</td>\n      <td>8</td>\n      <td>00:00:02</td>\n      <td>9</td>\n    </tr>\n    <tr>\n      <th>2020-08-15</th>\n      <td>36</td>\n      <td>6</td>\n      <td>00:00:03</td>\n      <td>9</td>\n    </tr>\n    <tr>\n      <th>2020-08-16</th>\n      <td>39</td>\n      <td>7</td>\n      <td>00:00:03</td>\n      <td>12</td>\n    </tr>\n    <tr>\n      <th>2020-08-17</th>\n      <td>94</td>\n      <td>10</td>\n      <td>00:00:01</td>\n      <td>28</td>\n    </tr>\n  </tbody>\n</table>\n</div>"
     },
     "metadata": {},
     "execution_count": 41
    }
   ],
   "source": [
    "groups=df_trans.groupby('Date')\n",
    "\n",
    "import seaborn as sns\n",
    "import matplotlib.pyplot as plt \n",
    "\n",
    "groups.describe()"
   ]
  },
  {
   "cell_type": "code",
   "execution_count": null,
   "metadata": {},
   "outputs": [],
   "source": []
  }
 ]
}